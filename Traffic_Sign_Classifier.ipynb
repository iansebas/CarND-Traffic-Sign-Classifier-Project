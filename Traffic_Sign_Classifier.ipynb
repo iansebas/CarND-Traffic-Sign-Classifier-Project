{
 "cells": [
  {
   "cell_type": "markdown",
   "metadata": {},
   "source": [
    "# Self-Driving Car Engineer Nanodegree\n",
    "\n",
    "## Deep Learning\n",
    "\n",
    "## Project: Build a Traffic Sign Recognition Classifier\n"
   ]
  },
  {
   "cell_type": "markdown",
   "metadata": {},
   "source": [
    "---\n",
    "## Step 0: Load The Data"
   ]
  },
  {
   "cell_type": "code",
   "execution_count": 1,
   "metadata": {},
   "outputs": [
    {
     "name": "stdout",
     "output_type": "stream",
     "text": [
      "Finished Loading Data\n"
     ]
    }
   ],
   "source": [
    "# Load pickled data\n",
    "import pickle\n",
    "\n",
    "# TODO: Fill this in based on where you saved the training and testing data\n",
    "\n",
    "training_file = \"train.p\"\n",
    "validation_file= \"valid.p\"\n",
    "testing_file = \"test.p\"\n",
    "\n",
    "with open(training_file, mode='rb') as f:\n",
    "    train = pickle.load(f)\n",
    "with open(validation_file, mode='rb') as f:\n",
    "    valid = pickle.load(f)\n",
    "with open(testing_file, mode='rb') as f:\n",
    "    test = pickle.load(f)\n",
    "    \n",
    "X_train, y_train = train['features'], train['labels']\n",
    "X_valid, y_valid = valid['features'], valid['labels']\n",
    "X_test, y_test = test['features'], test['labels']\n",
    "\n",
    "print(\"Finished Loading Data\")"
   ]
  },
  {
   "cell_type": "markdown",
   "metadata": {},
   "source": [
    "---\n",
    "\n",
    "## Step 1: Dataset Summary & Exploration\n",
    "\n",
    "The pickled data is a dictionary with 4 key/value pairs:\n",
    "\n",
    "- `'features'` is a 4D array containing raw pixel data of the traffic sign images, (num examples, width, height, channels).\n",
    "- `'labels'` is a 1D array containing the label/class id of the traffic sign. The file `signnames.csv` contains id -> name mappings for each id.\n",
    "- `'sizes'` is a list containing tuples, (width, height) representing the original width and height the image.\n",
    "- `'coords'` is a list containing tuples, (x1, y1, x2, y2) representing coordinates of a bounding box around the sign in the image. **THESE COORDINATES ASSUME THE ORIGINAL IMAGE. THE PICKLED DATA CONTAINS RESIZED VERSIONS (32 by 32) OF THESE IMAGES** \n",
    "---"
   ]
  },
  {
   "cell_type": "markdown",
   "metadata": {},
   "source": [
    "### Provide a Basic Summary of the Data Set Using Python, Numpy and/or Pandas"
   ]
  },
  {
   "cell_type": "code",
   "execution_count": 2,
   "metadata": {},
   "outputs": [
    {
     "name": "stdout",
     "output_type": "stream",
     "text": [
      "Number of training examples = 34799\n",
      "Number of testing examples = 12630\n",
      "Image data shape = (32, 32, 3)\n",
      "Number of classes = 43\n"
     ]
    }
   ],
   "source": [
    "\n",
    "import numpy as np\n",
    "\n",
    "n_train = X_train.shape[0]\n",
    "\n",
    "n_validation = X_valid.shape[0]\n",
    "\n",
    "n_test = X_test.shape[0]\n",
    "\n",
    "image_shape = X_train[0].shape\n",
    "\n",
    "n_classes = np.unique(y_train).shape[0]\n",
    "\n",
    "print(\"Number of training examples =\", n_train)\n",
    "print(\"Number of testing examples =\", n_test)\n",
    "print(\"Image data shape =\", image_shape)\n",
    "print(\"Number of classes =\", n_classes)"
   ]
  },
  {
   "cell_type": "markdown",
   "metadata": {},
   "source": [
    "### Include an exploratory visualization of the dataset"
   ]
  },
  {
   "cell_type": "markdown",
   "metadata": {},
   "source": []
  },
  {
   "cell_type": "code",
   "execution_count": 3,
   "metadata": {},
   "outputs": [
    {
     "data": {
      "image/png": "[encoded data removed]",
      "text/plain": [
       "<matplotlib.figure.Figure at 0x7f4bd017bf98>"
      ]
     },
     "metadata": {},
     "output_type": "display_data"
    },
    {
     "data": {
      "image/png": "[encoded data removed]",
      "text/plain": [
       "<matplotlib.figure.Figure at 0x7f4bae515c18>"
      ]
     },
     "metadata": {},
     "output_type": "display_data"
    },
    {
     "data": {
      "image/png": "[encoded data removed]",
      "text/plain": [
       "<matplotlib.figure.Figure at 0x7f4bae424c18>"
      ]
     },
     "metadata": {},
     "output_type": "display_data"
    },
    {
     "name": "stdout",
     "output_type": "stream",
     "text": [
      "7\n"
     ]
    },
    {
     "data": {
      "image/png": "[encoded data removed]",
      "text/plain": [
       "<matplotlib.figure.Figure at 0x7f4bae31fe10>"
      ]
     },
     "metadata": {},
     "output_type": "display_data"
    }
   ],
   "source": [
    "\n",
    "import matplotlib.pyplot as plt\n",
    "%matplotlib inline\n",
    "\n",
    "import random\n",
    "\n",
    "# Distributions\n",
    "binwidth = 1\n",
    "plt.hist(y_train, bins=np.arange(min(y_train), max(y_train) + binwidth, binwidth))\n",
    "plt.title(\"Training Data Distribution by Class\")\n",
    "plt.show()\n",
    "plt.hist(y_valid, bins=np.arange(min(y_valid), max(y_valid) + binwidth, binwidth))\n",
    "plt.title(\"Validation Data Distribution by Class\")\n",
    "plt.show()\n",
    "plt.hist(y_test, bins=np.arange(min(y_test), max(y_test) + binwidth, binwidth))\n",
    "plt.title(\"Testing Data Distribution by Class\")\n",
    "plt.show()\n",
    "\n",
    "# Example image\n",
    "\n",
    "index = random.randint(0, len(X_train))\n",
    "image = X_train[index].squeeze()\n",
    "\n",
    "plt.figure(figsize=(1,1))\n",
    "plt.imshow(image)\n",
    "print(y_train[index])\n",
    "\n",
    "\n"
   ]
  },
  {
   "cell_type": "markdown",
   "metadata": {},
   "source": [
    "----\n",
    "\n",
    "## Step 2: Design and Test a Model Architecture\n"
   ]
  },
  {
   "cell_type": "markdown",
   "metadata": {},
   "source": [
    "### Pre-process the Data Set (normalization, grayscale, etc.)"
   ]
  },
  {
   "cell_type": "markdown",
   "metadata": {},
   "source": [
    "Minimally, the image data should be normalized so that the data has mean zero and equal variance. For image data, `(pixel - 128)/ 128` is a quick way to approximately normalize the data and can be used in this project. \n",
    "\n",
    "Other pre-processing steps are optional. You can try different techniques to see if it improves performance. \n",
    "\n",
    "Use the code cell (or multiple code cells, if necessary) to implement the first step of your project."
   ]
  },
  {
   "cell_type": "code",
   "execution_count": 4,
   "metadata": {},
   "outputs": [
    {
     "name": "stdout",
     "output_type": "stream",
     "text": [
      "Finished Preprocessing Data\n"
     ]
    }
   ],
   "source": [
    "# Shuffle data\n",
    "from sklearn.utils import shuffle\n",
    "X_train, y_train = shuffle(X_train, y_train)\n",
    "\n",
    "\n",
    "# Normalize Data\n",
    "X_train = (X_train - 128)/128\n",
    "\n",
    "\n",
    "print(\"Finished Preprocessing Data\")\n"
   ]
  },
  {
   "cell_type": "markdown",
   "metadata": {},
   "source": [
    "### Model Architecture"
   ]
  },
  {
   "cell_type": "code",
   "execution_count": 5,
   "metadata": {},
   "outputs": [
    {
     "name": "stdout",
     "output_type": "stream",
     "text": [
      "Finished Defining DNN\n"
     ]
    }
   ],
   "source": [
    "import tensorflow as tf\n",
    "\n",
    "EPOCHS = 100\n",
    "BATCH_SIZE = 128\n",
    "\n",
    "def LeNet(x):    \n",
    "    conv1_W = tf.get_variable(\"conv1_W\", shape = [5, 5, 3, 6], initializer = tf.contrib.layers.xavier_initializer())\n",
    "    conv1_b = tf.get_variable(\"conv1_b\", shape = [6], initializer = tf.contrib.layers.xavier_initializer())\n",
    "    conv1   = tf.nn.conv2d(x, conv1_W, strides=[1, 1, 1, 1], padding='VALID') + conv1_b\n",
    "\n",
    "    # SOLUTION: Activation.\n",
    "    conv1 = tf.nn.relu(conv1)\n",
    "\n",
    "    # SOLUTION: Pooling. Input = 28x28x6. Output = 14x14x6.\n",
    "    conv1 = tf.nn.max_pool(conv1, ksize=[1, 2, 2, 1], strides=[1, 2, 2, 1], padding='VALID')\n",
    "\n",
    "    # SOLUTION: Layer 2: Convolutional. Output = 10x10x16.\n",
    "    conv2_W = tf.get_variable(\"conv2_W\", shape = [5, 5, 6, 16], initializer = tf.contrib.layers.xavier_initializer())\n",
    "    conv2_b = tf.get_variable(\"conv2_b\", shape = [16], initializer = tf.contrib.layers.xavier_initializer())\n",
    "    conv2   = tf.nn.conv2d(conv1, conv2_W, strides=[1, 1, 1, 1], padding='VALID') + conv2_b\n",
    "    \n",
    "    # SOLUTION: Activation.\n",
    "    conv2 = tf.nn.relu(conv2)\n",
    "\n",
    "    # SOLUTION: Pooling. Input = 10x10x16. Output = 5x5x16.\n",
    "    conv2 = tf.nn.max_pool(conv2, ksize=[1, 2, 2, 1], strides=[1, 2, 2, 1], padding='VALID')\n",
    "\n",
    "    # SOLUTION: Flatten. Input = 5x5x16. Output = 400.\n",
    "    fc0   =  tf.contrib.layers.flatten(conv2)\n",
    "    \n",
    "    # SOLUTION: Layer 3: Fully Connected. Input = 400. Output = 120.\n",
    "    fc1_W = tf.get_variable(\"fc1_W\", shape = [400, 120], initializer = tf.contrib.layers.xavier_initializer())\n",
    "    fc1_b = tf.get_variable(\"fc1_b\", shape = [120], initializer = tf.contrib.layers.xavier_initializer())\n",
    "    fc1   = tf.matmul(fc0, fc1_W) + fc1_b\n",
    "    \n",
    "    # SOLUTION: Activation.\n",
    "    fc1    = tf.nn.relu(fc1)\n",
    "\n",
    "    # SOLUTION: Layer 4: Fully Connected. Input = 120. Output = 84.\n",
    "    fc2_W = tf.get_variable(\"fc2_W\", shape = [120, 84], initializer = tf.contrib.layers.xavier_initializer())\n",
    "    fc2_b = tf.get_variable(\"fc2_b\", shape = [84], initializer = tf.contrib.layers.xavier_initializer())\n",
    "    fc2    = tf.matmul(fc1, fc2_W) + fc2_b\n",
    "    \n",
    "    # SOLUTION: Activation.\n",
    "    fc2    = tf.nn.relu(fc2)\n",
    "\n",
    "    # SOLUTION: Layer 5: Fully Connected. Input = 84. Output = n_classes.\n",
    "    fc3_W = tf.get_variable(\"fc3_W\", shape = [84, n_classes], initializer = tf.contrib.layers.xavier_initializer())\n",
    "    fc3_b = tf.get_variable(\"fc3_b\", shape = [n_classes], initializer = tf.contrib.layers.xavier_initializer())\n",
    "    logits = tf.matmul(fc2, fc3_W) + fc3_b\n",
    "    \n",
    "    return logits\n",
    "\n",
    "def dnn(x):\n",
    "    \n",
    "    y = LeNet(x)\n",
    "    \n",
    "    return y\n",
    "\n",
    "print(\"Finished Defining DNN\")"
   ]
  },
  {
   "cell_type": "markdown",
   "metadata": {},
   "source": [
    "### Train, Validate and Test the Model"
   ]
  },
  {
   "cell_type": "markdown",
   "metadata": {},
   "source": []
  },
  {
   "cell_type": "code",
   "execution_count": 6,
   "metadata": {},
   "outputs": [
    {
     "name": "stdout",
     "output_type": "stream",
     "text": [
      "0.12.1\n",
      "Finished Loading Graph\n",
      "Training...\n",
      "\n",
      "EPOCH 1 ...\n",
      "Validation Accuracy = 0.099\n",
      "\n",
      "EPOCH 2 ...\n",
      "Validation Accuracy = 0.317\n",
      "\n",
      "EPOCH 3 ...\n",
      "Validation Accuracy = 0.506\n",
      "\n",
      "EPOCH 4 ...\n",
      "Validation Accuracy = 0.517\n",
      "\n",
      "EPOCH 5 ...\n",
      "Validation Accuracy = 0.547\n",
      "\n",
      "EPOCH 6 ...\n",
      "Validation Accuracy = 0.571\n",
      "\n",
      "EPOCH 7 ...\n",
      "Validation Accuracy = 0.567\n",
      "\n",
      "EPOCH 8 ...\n",
      "Validation Accuracy = 0.595\n",
      "\n",
      "EPOCH 9 ...\n",
      "Validation Accuracy = 0.572\n",
      "\n",
      "EPOCH 10 ...\n",
      "Validation Accuracy = 0.602\n",
      "\n",
      "EPOCH 11 ...\n",
      "Validation Accuracy = 0.607\n",
      "\n",
      "EPOCH 12 ...\n",
      "Validation Accuracy = 0.597\n",
      "\n",
      "EPOCH 13 ...\n",
      "Validation Accuracy = 0.605\n",
      "\n",
      "EPOCH 14 ...\n",
      "Validation Accuracy = 0.666\n",
      "\n",
      "EPOCH 15 ...\n",
      "Validation Accuracy = 0.607\n",
      "\n",
      "EPOCH 16 ...\n",
      "Validation Accuracy = 0.585\n",
      "\n",
      "EPOCH 17 ...\n",
      "Validation Accuracy = 0.626\n",
      "\n",
      "EPOCH 18 ...\n",
      "Validation Accuracy = 0.578\n",
      "\n",
      "EPOCH 19 ...\n",
      "Validation Accuracy = 0.609\n",
      "\n",
      "EPOCH 20 ...\n",
      "Validation Accuracy = 0.660\n",
      "\n",
      "EPOCH 21 ...\n",
      "Validation Accuracy = 0.662\n",
      "\n",
      "EPOCH 22 ...\n",
      "Validation Accuracy = 0.603\n",
      "\n",
      "EPOCH 23 ...\n",
      "Validation Accuracy = 0.648\n",
      "\n",
      "EPOCH 24 ...\n",
      "Validation Accuracy = 0.694\n",
      "\n",
      "EPOCH 25 ...\n",
      "Validation Accuracy = 0.699\n",
      "\n",
      "EPOCH 26 ...\n",
      "Validation Accuracy = 0.613\n",
      "\n",
      "EPOCH 27 ...\n",
      "Validation Accuracy = 0.624\n",
      "\n",
      "EPOCH 28 ...\n",
      "Validation Accuracy = 0.667\n",
      "\n",
      "EPOCH 29 ...\n",
      "Validation Accuracy = 0.708\n",
      "\n",
      "EPOCH 30 ...\n",
      "Validation Accuracy = 0.702\n",
      "\n",
      "EPOCH 31 ...\n",
      "Validation Accuracy = 0.651\n",
      "\n",
      "EPOCH 32 ...\n",
      "Validation Accuracy = 0.670\n",
      "\n",
      "EPOCH 33 ...\n",
      "Validation Accuracy = 0.701\n",
      "\n",
      "EPOCH 34 ...\n",
      "Validation Accuracy = 0.686\n",
      "\n",
      "EPOCH 35 ...\n",
      "Validation Accuracy = 0.691\n",
      "\n",
      "EPOCH 36 ...\n",
      "Validation Accuracy = 0.709\n",
      "\n",
      "EPOCH 37 ...\n",
      "Validation Accuracy = 0.697\n",
      "\n",
      "EPOCH 38 ...\n",
      "Validation Accuracy = 0.673\n",
      "\n",
      "EPOCH 39 ...\n",
      "Validation Accuracy = 0.708\n",
      "\n",
      "EPOCH 40 ...\n",
      "Validation Accuracy = 0.676\n",
      "\n",
      "EPOCH 41 ...\n",
      "Validation Accuracy = 0.688\n",
      "\n",
      "EPOCH 42 ...\n",
      "Validation Accuracy = 0.698\n",
      "\n",
      "EPOCH 43 ...\n",
      "Validation Accuracy = 0.710\n",
      "\n",
      "EPOCH 44 ...\n",
      "Validation Accuracy = 0.720\n",
      "\n",
      "EPOCH 45 ...\n",
      "Validation Accuracy = 0.706\n",
      "\n",
      "EPOCH 46 ...\n",
      "Validation Accuracy = 0.708\n",
      "\n",
      "EPOCH 47 ...\n",
      "Validation Accuracy = 0.740\n",
      "\n",
      "EPOCH 48 ...\n",
      "Validation Accuracy = 0.681\n",
      "\n",
      "EPOCH 49 ...\n",
      "Validation Accuracy = 0.693\n",
      "\n",
      "EPOCH 50 ...\n",
      "Validation Accuracy = 0.710\n",
      "\n",
      "EPOCH 51 ...\n",
      "Validation Accuracy = 0.716\n",
      "\n",
      "EPOCH 52 ...\n",
      "Validation Accuracy = 0.721\n",
      "\n",
      "EPOCH 53 ...\n",
      "Validation Accuracy = 0.703\n",
      "\n",
      "EPOCH 54 ...\n",
      "Validation Accuracy = 0.710\n",
      "\n",
      "EPOCH 55 ...\n",
      "Validation Accuracy = 0.678\n",
      "\n",
      "EPOCH 56 ...\n",
      "Validation Accuracy = 0.716\n",
      "\n",
      "EPOCH 57 ...\n",
      "Validation Accuracy = 0.692\n",
      "\n",
      "EPOCH 58 ...\n",
      "Validation Accuracy = 0.713\n",
      "\n",
      "EPOCH 59 ...\n",
      "Validation Accuracy = 0.676\n",
      "\n",
      "EPOCH 60 ...\n",
      "Validation Accuracy = 0.693\n",
      "\n",
      "EPOCH 61 ...\n",
      "Validation Accuracy = 0.658\n",
      "\n",
      "EPOCH 62 ...\n",
      "Validation Accuracy = 0.701\n",
      "\n",
      "EPOCH 63 ...\n",
      "Validation Accuracy = 0.750\n",
      "\n",
      "EPOCH 64 ...\n",
      "Validation Accuracy = 0.716\n",
      "\n",
      "EPOCH 65 ...\n",
      "Validation Accuracy = 0.706\n",
      "\n",
      "EPOCH 66 ...\n",
      "Validation Accuracy = 0.694\n",
      "\n",
      "EPOCH 67 ...\n",
      "Validation Accuracy = 0.740\n",
      "\n",
      "EPOCH 68 ...\n",
      "Validation Accuracy = 0.707\n",
      "\n",
      "EPOCH 69 ...\n",
      "Validation Accuracy = 0.726\n",
      "\n",
      "EPOCH 70 ...\n",
      "Validation Accuracy = 0.737\n",
      "\n",
      "EPOCH 71 ...\n",
      "Validation Accuracy = 0.735\n",
      "\n",
      "EPOCH 72 ...\n",
      "Validation Accuracy = 0.714\n",
      "\n",
      "EPOCH 73 ...\n",
      "Validation Accuracy = 0.698\n",
      "\n",
      "EPOCH 74 ...\n",
      "Validation Accuracy = 0.745\n",
      "\n",
      "EPOCH 75 ...\n",
      "Validation Accuracy = 0.698\n",
      "\n",
      "EPOCH 76 ...\n",
      "Validation Accuracy = 0.666\n",
      "\n",
      "EPOCH 77 ...\n",
      "Validation Accuracy = 0.721\n",
      "\n",
      "EPOCH 78 ...\n",
      "Validation Accuracy = 0.702\n",
      "\n",
      "EPOCH 79 ...\n",
      "Validation Accuracy = 0.736\n",
      "\n",
      "EPOCH 80 ...\n",
      "Validation Accuracy = 0.737\n",
      "\n",
      "EPOCH 81 ...\n",
      "Validation Accuracy = 0.764\n",
      "\n",
      "EPOCH 82 ...\n",
      "Validation Accuracy = 0.757\n",
      "\n",
      "EPOCH 83 ...\n",
      "Validation Accuracy = 0.767\n",
      "\n",
      "EPOCH 84 ...\n",
      "Validation Accuracy = 0.739\n",
      "\n",
      "EPOCH 85 ...\n",
      "Validation Accuracy = 0.737\n",
      "\n",
      "EPOCH 86 ...\n",
      "Validation Accuracy = 0.736\n",
      "\n",
      "EPOCH 87 ...\n",
      "Validation Accuracy = 0.743\n",
      "\n",
      "EPOCH 88 ...\n",
      "Validation Accuracy = 0.716\n",
      "\n",
      "EPOCH 89 ...\n",
      "Validation Accuracy = 0.719\n",
      "\n",
      "EPOCH 90 ...\n",
      "Validation Accuracy = 0.746\n",
      "\n",
      "EPOCH 91 ...\n",
      "Validation Accuracy = 0.734\n",
      "\n",
      "EPOCH 92 ...\n",
      "Validation Accuracy = 0.735\n",
      "\n",
      "EPOCH 93 ...\n",
      "Validation Accuracy = 0.723\n",
      "\n",
      "EPOCH 94 ...\n",
      "Validation Accuracy = 0.711\n",
      "\n",
      "EPOCH 95 ...\n",
      "Validation Accuracy = 0.738\n",
      "\n",
      "EPOCH 96 ...\n",
      "Validation Accuracy = 0.721\n",
      "\n",
      "EPOCH 97 ...\n",
      "Validation Accuracy = 0.729\n",
      "\n",
      "EPOCH 98 ...\n",
      "Validation Accuracy = 0.767\n",
      "\n",
      "EPOCH 99 ...\n",
      "Validation Accuracy = 0.726\n",
      "\n",
      "EPOCH 100 ...\n",
      "Validation Accuracy = 0.745\n",
      "\n",
      "Model saved\n",
      "Testing...\n",
      "Test Accuracy = 0.749\n"
     ]
    }
   ],
   "source": [
    "# Helper Definitions\n",
    "\n",
    "print(tf.__version__)\n",
    "\n",
    "x = tf.placeholder(tf.float32, (None, 32, 32, 3))\n",
    "y = tf.placeholder(tf.int32, (None))\n",
    "one_hot_y = tf.one_hot(y, n_classes)\n",
    "\n",
    "logits = dnn(x)\n",
    "cross_entropy = tf.nn.softmax_cross_entropy_with_logits(logits=logits, labels=one_hot_y)\n",
    "loss_operation = tf.reduce_mean(cross_entropy)\n",
    "optimizer = tf.train.AdamOptimizer(learning_rate = 0.001)\n",
    "training_operation = optimizer.minimize(loss_operation)\n",
    "\n",
    "correct_prediction = tf.equal(tf.argmax(logits, 1), tf.argmax(one_hot_y, 1))\n",
    "accuracy_operation = tf.reduce_mean(tf.cast(correct_prediction, tf.float32))\n",
    "saver = tf.train.Saver()\n",
    "\n",
    "print(\"Finished Loading Graph\")\n",
    "\n",
    "def evaluate(X_data, y_data):\n",
    "    num_examples = len(X_data)\n",
    "    total_accuracy = 0\n",
    "    sess = tf.get_default_session()\n",
    "    for offset in range(0, num_examples, BATCH_SIZE):\n",
    "        batch_x, batch_y = X_data[offset:offset+BATCH_SIZE], y_data[offset:offset+BATCH_SIZE]\n",
    "        accuracy = sess.run(accuracy_operation, feed_dict={x: batch_x, y: batch_y})\n",
    "        total_accuracy += (accuracy * len(batch_x))\n",
    "    return total_accuracy / num_examples\n",
    "\n",
    "# Train & Validate\n",
    "\n",
    "with tf.Session() as sess:\n",
    "    sess.run(tf.global_variables_initializer())\n",
    "    num_examples = len(X_train)\n",
    "    \n",
    "    print(\"Training...\")\n",
    "    print()\n",
    "    for i in range(EPOCHS):\n",
    "        X_train, y_train = shuffle(X_train, y_train)\n",
    "        for offset in range(0, num_examples, BATCH_SIZE):\n",
    "            end = offset + BATCH_SIZE\n",
    "            batch_x, batch_y = X_train[offset:end], y_train[offset:end]\n",
    "            sess.run(training_operation, feed_dict={x: batch_x, y: batch_y})\n",
    "            \n",
    "        validation_accuracy = evaluate(X_valid, y_valid)\n",
    "        print(\"EPOCH {} ...\".format(i+1))\n",
    "        print(\"Validation Accuracy = {:.3f}\".format(validation_accuracy))\n",
    "        print()\n",
    "        saver.save(sess, 'model')\n",
    "        \n",
    "    saver.save(sess, 'model')\n",
    "    print(\"Model saved\")\n",
    "    \n",
    "    print(\"Testing...\")\n",
    "    test_accuracy = evaluate(X_test, y_test)\n",
    "    print(\"Test Accuracy = {:.3f}\".format(test_accuracy))\n"
   ]
  },
  {
   "cell_type": "markdown",
   "metadata": {},
   "source": [
    "---\n",
    "\n",
    "## Step 3: Test a Model on New Images\n",
    "\n",
    "To give yourself more insight into how your model is working, download at least five pictures of German traffic signs from the web and use your model to predict the traffic sign type.\n",
    "\n",
    "You may find `signnames.csv` useful as it contains mappings from the class id (integer) to the actual sign name."
   ]
  },
  {
   "cell_type": "markdown",
   "metadata": {},
   "source": [
    "### Load and Output the Images"
   ]
  },
  {
   "cell_type": "code",
   "execution_count": null,
   "metadata": {
    "collapsed": true
   },
   "outputs": [],
   "source": [
    "### Load the images and plot them here.\n",
    "eval_file = \"eval.p\"\n",
    "with open(eval_file, mode='rb') as f:\n",
    "    eval_data = pickle.load(f)\n",
    "    \n",
    "X_data, y_data = eval_data['features'], eval_data['labels']"
   ]
  },
  {
   "cell_type": "markdown",
   "metadata": {},
   "source": [
    "### Predict the Sign Type for Each Image"
   ]
  },
  {
   "cell_type": "code",
   "execution_count": null,
   "metadata": {
    "collapsed": true
   },
   "outputs": [],
   "source": [
    "### Run the predictions here and use the model to output the prediction for each image.\n",
    "\n",
    "# Normalize Data\n",
    "X_data = (X_data - 128)/128"
   ]
  },
  {
   "cell_type": "markdown",
   "metadata": {},
   "source": [
    "### Analyze Performance"
   ]
  },
  {
   "cell_type": "code",
   "execution_count": null,
   "metadata": {
    "collapsed": true
   },
   "outputs": [],
   "source": [
    "### Calculate the accuracy for these 5 new images. \n",
    "### For example, if the model predicted 1 out of 5 signs correctly, it's 20% accurate on these new images."
   ]
  },
  {
   "cell_type": "markdown",
   "metadata": {},
   "source": [
    "### Output Top 5 Softmax Probabilities For Each Image Found on the Web"
   ]
  },
  {
   "cell_type": "markdown",
   "metadata": {},
   "source": [
    "For each of the new images, print out the model's softmax probabilities to show the **certainty** of the model's predictions (limit the output to the top 5 probabilities for each image). [`tf.nn.top_k`](https://www.tensorflow.org/versions/r0.12/api_docs/python/nn.html#top_k) could prove helpful here. \n",
    "\n",
    "The example below demonstrates how tf.nn.top_k can be used to find the top k predictions for each image.\n",
    "\n",
    "`tf.nn.top_k` will return the values and indices (class ids) of the top k predictions. So if k=3, for each sign, it'll return the 3 largest probabilities (out of a possible 43) and the correspoding class ids.\n",
    "\n",
    "Take this numpy array as an example. The values in the array represent predictions. The array contains softmax probabilities for five candidate images with six possible classes. `tk.nn.top_k` is used to choose the three classes with the highest probability:\n",
    "\n",
    "```\n",
    "# (5, 6) array\n",
    "a = np.array([[ 0.24879643,  0.07032244,  0.12641572,  0.34763842,  0.07893497,\n",
    "         0.12789202],\n",
    "       [ 0.28086119,  0.27569815,  0.08594638,  0.0178669 ,  0.18063401,\n",
    "         0.15899337],\n",
    "       [ 0.26076848,  0.23664738,  0.08020603,  0.07001922,  0.1134371 ,\n",
    "         0.23892179],\n",
    "       [ 0.11943333,  0.29198961,  0.02605103,  0.26234032,  0.1351348 ,\n",
    "         0.16505091],\n",
    "       [ 0.09561176,  0.34396535,  0.0643941 ,  0.16240774,  0.24206137,\n",
    "         0.09155967]])\n",
    "```\n",
    "\n",
    "Running it through `sess.run(tf.nn.top_k(tf.constant(a), k=3))` produces:\n",
    "\n",
    "```\n",
    "TopKV2(values=array([[ 0.34763842,  0.24879643,  0.12789202],\n",
    "       [ 0.28086119,  0.27569815,  0.18063401],\n",
    "       [ 0.26076848,  0.23892179,  0.23664738],\n",
    "       [ 0.29198961,  0.26234032,  0.16505091],\n",
    "       [ 0.34396535,  0.24206137,  0.16240774]]), indices=array([[3, 0, 5],\n",
    "       [0, 1, 4],\n",
    "       [0, 5, 1],\n",
    "       [1, 3, 5],\n",
    "       [1, 4, 3]], dtype=int32))\n",
    "```\n",
    "\n",
    "Looking just at the first row we get `[ 0.34763842,  0.24879643,  0.12789202]`, you can confirm these are the 3 largest probabilities in `a`. You'll also notice `[3, 0, 5]` are the corresponding indices."
   ]
  },
  {
   "cell_type": "code",
   "execution_count": null,
   "metadata": {
    "collapsed": true
   },
   "outputs": [],
   "source": [
    "### Print out the top five softmax probabilities for the predictions on the German traffic sign images found on the web. \n",
    "### Feel free to use as many code cells as needed."
   ]
  },
  {
   "cell_type": "markdown",
   "metadata": {},
   "source": []
  },
  {
   "cell_type": "markdown",
   "metadata": {},
   "source": []
  },
  {
   "cell_type": "markdown",
   "metadata": {},
   "source": [
    "\n"
   ]
  },
  {
   "cell_type": "code",
   "execution_count": null,
   "metadata": {
    "collapsed": true
   },
   "outputs": [],
   "source": []
  }
 ],
 "metadata": {
  "anaconda-cloud": {},
  "kernelspec": {
   "display_name": "Python 3",
   "language": "python",
   "name": "python3"
  },
  "language_info": {
   "codemirror_mode": {
    "name": "ipython",
    "version": 3
   },
   "file_extension": ".py",
   "mimetype": "text/x-python",
   "name": "python",
   "nbconvert_exporter": "python",
   "pygments_lexer": "ipython3",
   "version": "3.5.2"
  },
  "widgets": {
   "state": {},
   "version": "1.1.2"
  }
 },
 "nbformat": 4,
 "nbformat_minor": 1
}
