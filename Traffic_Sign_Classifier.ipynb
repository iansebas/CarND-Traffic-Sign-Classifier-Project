{
 "cells": [
  {
   "cell_type": "markdown",
   "metadata": {},
   "source": [
    "# Self-Driving Car Engineer Nanodegree\n",
    "\n",
    "## Deep Learning\n",
    "\n",
    "## Project: Build a Traffic Sign Recognition Classifier\n"
   ]
  },
  {
   "cell_type": "markdown",
   "metadata": {},
   "source": [
    "---\n",
    "## Step 0: Load The Data"
   ]
  },
  {
   "cell_type": "code",
   "execution_count": 1,
   "metadata": {},
   "outputs": [
    {
     "name": "stdout",
     "output_type": "stream",
     "text": [
      "Finished Loading Data\n"
     ]
    }
   ],
   "source": [
    "# Load pickled data\n",
    "import pickle\n",
    "\n",
    "# TODO: Fill this in based on where you saved the training and testing data\n",
    "\n",
    "training_file = \"train.p\"\n",
    "validation_file= \"valid.p\"\n",
    "testing_file = \"test.p\"\n",
    "\n",
    "with open(training_file, mode='rb') as f:\n",
    "    train = pickle.load(f)\n",
    "with open(validation_file, mode='rb') as f:\n",
    "    valid = pickle.load(f)\n",
    "with open(testing_file, mode='rb') as f:\n",
    "    test = pickle.load(f)\n",
    "    \n",
    "X_train, y_train = train['features'], train['labels']\n",
    "X_valid, y_valid = valid['features'], valid['labels']\n",
    "X_test, y_test = test['features'], test['labels']\n",
    "\n",
    "print(\"Finished Loading Data\")"
   ]
  },
  {
   "cell_type": "markdown",
   "metadata": {},
   "source": [
    "---\n",
    "\n",
    "## Step 1: Dataset Summary & Exploration\n"
   ]
  },
  {
   "cell_type": "markdown",
   "metadata": {},
   "source": [
    "### Provide a Basic Summary of the Data Set Using Python, Numpy and/or Pandas"
   ]
  },
  {
   "cell_type": "code",
   "execution_count": 2,
   "metadata": {},
   "outputs": [
    {
     "name": "stdout",
     "output_type": "stream",
     "text": [
      "Number of training examples = 34799\n",
      "Number of testing examples = 12630\n",
      "Image data shape = (32, 32, 3)\n",
      "Number of classes = 43\n"
     ]
    }
   ],
   "source": [
    "\n",
    "import numpy as np\n",
    "\n",
    "n_train = X_train.shape[0]\n",
    "\n",
    "n_validation = X_valid.shape[0]\n",
    "\n",
    "n_test = X_test.shape[0]\n",
    "\n",
    "image_shape = X_train[0].shape\n",
    "\n",
    "n_classes = np.unique(y_train).shape[0]\n",
    "\n",
    "print(\"Number of training examples =\", n_train)\n",
    "print(\"Number of testing examples =\", n_test)\n",
    "print(\"Image data shape =\", image_shape)\n",
    "print(\"Number of classes =\", n_classes)"
   ]
  },
  {
   "cell_type": "markdown",
   "metadata": {},
   "source": [
    "### Include an exploratory visualization of the dataset"
   ]
  },
  {
   "cell_type": "markdown",
   "metadata": {},
   "source": []
  },
  {
   "cell_type": "code",
   "execution_count": 3,
   "metadata": {},
   "outputs": [
    {
     "data": {
      "image/png": "[encoded data removed]",
      "text/plain": [
       "<matplotlib.figure.Figure at 0x7f2a5cc7d080>"
      ]
     },
     "metadata": {},
     "output_type": "display_data"
    },
    {
     "data": {
      "image/png": "[encoded data removed]",
      "text/plain": [
       "<matplotlib.figure.Figure at 0x7f2a59060be0>"
      ]
     },
     "metadata": {},
     "output_type": "display_data"
    },
    {
     "data": {
      "image/png": "[encoded data removed]",
      "text/plain": [
       "<matplotlib.figure.Figure at 0x7f2a58e5cc50>"
      ]
     },
     "metadata": {},
     "output_type": "display_data"
    },
    {
     "name": "stdout",
     "output_type": "stream",
     "text": [
      "5\n"
     ]
    },
    {
     "data": {
      "image/png": "[encoded data removed]",
      "text/plain": [
       "<matplotlib.figure.Figure at 0x7f2a56832390>"
      ]
     },
     "metadata": {},
     "output_type": "display_data"
    }
   ],
   "source": [
    "\n",
    "import matplotlib.pyplot as plt\n",
    "%matplotlib inline\n",
    "\n",
    "import random\n",
    "\n",
    "# Distributions\n",
    "binwidth = 1\n",
    "plt.hist(y_train, bins=np.arange(min(y_train), max(y_train) + binwidth, binwidth))\n",
    "plt.title(\"Training Data Distribution by Class\")\n",
    "plt.show()\n",
    "plt.hist(y_valid, bins=np.arange(min(y_valid), max(y_valid) + binwidth, binwidth))\n",
    "plt.title(\"Validation Data Distribution by Class\")\n",
    "plt.show()\n",
    "plt.hist(y_test, bins=np.arange(min(y_test), max(y_test) + binwidth, binwidth))\n",
    "plt.title(\"Testing Data Distribution by Class\")\n",
    "plt.show()\n",
    "\n",
    "# Example image\n",
    "\n",
    "index = random.randint(0, len(X_train))\n",
    "image = X_train[index].squeeze()\n",
    "\n",
    "plt.figure(figsize=(1,1))\n",
    "plt.imshow(image)\n",
    "print(y_train[index])\n",
    "\n",
    "\n"
   ]
  },
  {
   "cell_type": "markdown",
   "metadata": {},
   "source": [
    "----\n",
    "\n",
    "## Step 2: Design and Test a Model Architecture\n"
   ]
  },
  {
   "cell_type": "markdown",
   "metadata": {},
   "source": [
    "### Pre-process the Data Set (normalization, grayscale, etc.)"
   ]
  },
  {
   "cell_type": "markdown",
   "metadata": {},
   "source": []
  },
  {
   "cell_type": "code",
   "execution_count": 4,
   "metadata": {},
   "outputs": [
    {
     "name": "stdout",
     "output_type": "stream",
     "text": [
      "6\n",
      "Original Dataset : 34799\n",
      "Largest class has 2010 elements\n",
      "Filling class 0 with 1830 elements\n",
      "Class 0 has now 2010 elements\n",
      "Filling class 1 with 30 elements\n",
      "Class 1 has now 2010 elements\n",
      "Filling class 2 with 0 elements\n",
      "Class 2 has now 2010 elements\n",
      "Filling class 3 with 750 elements\n",
      "Class 3 has now 2010 elements\n",
      "Filling class 4 with 240 elements\n",
      "Class 4 has now 2010 elements\n",
      "Filling class 5 with 360 elements\n",
      "Class 5 has now 2010 elements\n",
      "Filling class 6 with 1650 elements\n",
      "Class 6 has now 2010 elements\n",
      "Filling class 7 with 720 elements\n",
      "Class 7 has now 2010 elements\n",
      "Filling class 8 with 750 elements\n",
      "Class 8 has now 2010 elements\n",
      "Filling class 9 with 690 elements\n",
      "Class 9 has now 2010 elements\n",
      "Filling class 10 with 210 elements\n",
      "Class 10 has now 2010 elements\n",
      "Filling class 11 with 840 elements\n",
      "Class 11 has now 2010 elements\n",
      "Filling class 12 with 120 elements\n",
      "Class 12 has now 2010 elements\n",
      "Filling class 13 with 90 elements\n",
      "Class 13 has now 2010 elements\n",
      "Filling class 14 with 1320 elements\n",
      "Class 14 has now 2010 elements\n",
      "Filling class 15 with 1470 elements\n",
      "Class 15 has now 2010 elements\n",
      "Filling class 16 with 1650 elements\n",
      "Class 16 has now 2010 elements\n",
      "Filling class 17 with 1020 elements\n",
      "Class 17 has now 2010 elements\n",
      "Filling class 18 with 930 elements\n",
      "Class 18 has now 2010 elements\n",
      "Filling class 19 with 1830 elements\n",
      "Class 19 has now 2010 elements\n",
      "Filling class 20 with 1710 elements\n",
      "Class 20 has now 2010 elements\n",
      "Filling class 21 with 1740 elements\n",
      "Class 21 has now 2010 elements\n",
      "Filling class 22 with 1680 elements\n",
      "Class 22 has now 2010 elements\n",
      "Filling class 23 with 1560 elements\n",
      "Class 23 has now 2010 elements\n",
      "Filling class 24 with 1770 elements\n",
      "Class 24 has now 2010 elements\n",
      "Filling class 25 with 660 elements\n",
      "Class 25 has now 2010 elements\n",
      "Filling class 26 with 1470 elements\n",
      "Class 26 has now 2010 elements\n",
      "Filling class 27 with 1800 elements\n",
      "Class 27 has now 2010 elements\n",
      "Filling class 28 with 1530 elements\n",
      "Class 28 has now 2010 elements\n",
      "Filling class 29 with 1770 elements\n",
      "Class 29 has now 2010 elements\n",
      "Filling class 30 with 1620 elements\n",
      "Class 30 has now 2010 elements\n",
      "Filling class 31 with 1320 elements\n",
      "Class 31 has now 2010 elements\n",
      "Filling class 32 with 1800 elements\n",
      "Class 32 has now 2010 elements\n",
      "Filling class 33 with 1411 elements\n",
      "Class 33 has now 2010 elements\n",
      "Filling class 34 with 1650 elements\n",
      "Class 34 has now 2010 elements\n",
      "Filling class 35 with 930 elements\n",
      "Class 35 has now 2010 elements\n",
      "Filling class 36 with 1680 elements\n",
      "Class 36 has now 2010 elements\n",
      "Filling class 37 with 1830 elements\n",
      "Class 37 has now 2010 elements\n",
      "Filling class 38 with 150 elements\n",
      "Class 38 has now 2010 elements\n",
      "Filling class 39 with 1740 elements\n",
      "Class 39 has now 2010 elements\n",
      "Filling class 40 with 1710 elements\n",
      "Class 40 has now 2010 elements\n",
      "Filling class 41 with 1800 elements\n",
      "Class 41 has now 2010 elements\n",
      "Filling class 42 with 1800 elements\n",
      "Class 42 has now 2010 elements\n",
      "Augmented Dataset : 86430\n",
      "Finished Preprocessing Data\n"
     ]
    },
    {
     "data": {
      "image/png": "[encoded data removed]",
      "text/plain": [
       "<matplotlib.figure.Figure at 0x7f2a58e566d8>"
      ]
     },
     "metadata": {},
     "output_type": "display_data"
    }
   ],
   "source": [
    "# Shuffle data\n",
    "from sklearn.utils import shuffle\n",
    "X_train, y_train = shuffle(X_train, y_train)\n",
    "\n",
    "\n",
    "# Normalize Data\n",
    "X_train = (X_train - 128.0)/128.0\n",
    "X_valid = (X_valid - 128.0)/128.0\n",
    "X_test = (X_test - 128.0)/128.0\n",
    "\n",
    "# Example image\n",
    "index = random.randint(0, len(X_train))\n",
    "image = X_train[index].squeeze()\n",
    "plt.figure(figsize=(1,1))\n",
    "plt.imshow(image)\n",
    "print(y_train[index])\n",
    "\n",
    "# Balance Data\n",
    "import gc\n",
    "def balance_data(train_x, train_y):\n",
    "    \"\"\"Makes ALL classes have the same distribution\"\"\"\n",
    "\n",
    "    print('Original Dataset : {}'.format(train_x.shape[0]))\n",
    "\n",
    "    max_count_index = np.bincount(train_y).argmax()\n",
    "    max_count = np.where(train_y == max_count_index)[0].shape[0]\n",
    "    \n",
    "    print(\"Largest class has {} elements\".format(max_count))\n",
    "\n",
    "    xx = np.copy(train_x)\n",
    "    yy = np.copy(train_y)\n",
    "\n",
    "    #Over-Sampling\n",
    "    for j in range(n_classes):\n",
    "        mask_n = np.where(train_y == j)[0]\n",
    "        num_to_oversample = max_count -  np.where(train_y == j)[0].shape[0]\n",
    "        print(\"Filling class {} with {} elements\".format(j,num_to_oversample))\n",
    "        x_n = train_x[mask_n]\n",
    "        y_n = train_y[mask_n]\n",
    "        b_mask = np.random.RandomState().choice(x_n.shape[0], num_to_oversample)\n",
    "        x_k = x_n[[b_mask]]\n",
    "        y_k = y_n[[b_mask]]\n",
    "        xx = np.concatenate((xx,x_k),axis=0)\n",
    "        yy = np.concatenate((yy,y_k),axis=0)\n",
    "        del x_n, y_n, x_k, y_k, mask_n, b_mask\n",
    "        gc.collect()\n",
    "        print(\"Class {} has now {} elements\".format(j,np.where(yy == j)[0].shape[0]))\n",
    "\n",
    "    print('Augmented Dataset : {}'.format(xx.shape[0]))\n",
    "    \n",
    "    return xx, yy\n",
    "\n",
    "X_train, y_train = balance_data(X_train, y_train)\n",
    "\n",
    "\n",
    "print(\"Finished Preprocessing Data\")\n"
   ]
  },
  {
   "cell_type": "markdown",
   "metadata": {},
   "source": [
    "### Model Architecture"
   ]
  },
  {
   "cell_type": "code",
   "execution_count": 5,
   "metadata": {},
   "outputs": [
    {
     "name": "stdout",
     "output_type": "stream",
     "text": [
      "Finished Defining DNN\n"
     ]
    }
   ],
   "source": [
    "import tensorflow as tf\n",
    "\n",
    "EPOCHS = 15\n",
    "BATCH_SIZE = 64\n",
    "\n",
    "def LeNet(x):    \n",
    "    conv1_W = tf.get_variable(\"conv1_W\", shape = [5, 5, 3, 6], initializer = tf.contrib.layers.xavier_initializer())\n",
    "    conv1_b = tf.get_variable(\"conv1_b\", shape = [6], initializer = tf.contrib.layers.xavier_initializer())\n",
    "    conv1   = tf.nn.conv2d(x, conv1_W, strides=[1, 1, 1, 1], padding='VALID') + conv1_b\n",
    "\n",
    "    # SOLUTION: Activation.\n",
    "    conv1 = tf.nn.relu(conv1)\n",
    "\n",
    "    # SOLUTION: Pooling. Input = 28x28x6. Output = 14x14x6.\n",
    "    conv1 = tf.nn.max_pool(conv1, ksize=[1, 2, 2, 1], strides=[1, 2, 2, 1], padding='VALID')\n",
    "\n",
    "    # SOLUTION: Layer 2: Convolutional. Output = 10x10x16.\n",
    "    conv2_W = tf.get_variable(\"conv2_W\", shape = [5, 5, 6, 16], initializer = tf.contrib.layers.xavier_initializer())\n",
    "    conv2_b = tf.get_variable(\"conv2_b\", shape = [16], initializer = tf.contrib.layers.xavier_initializer())\n",
    "    conv2   = tf.nn.conv2d(conv1, conv2_W, strides=[1, 1, 1, 1], padding='VALID') + conv2_b\n",
    "    \n",
    "    # SOLUTION: Activation.\n",
    "    conv2 = tf.nn.relu(conv2)\n",
    "\n",
    "    # SOLUTION: Pooling. Input = 10x10x16. Output = 5x5x16.\n",
    "    conv2 = tf.nn.max_pool(conv2, ksize=[1, 2, 2, 1], strides=[1, 2, 2, 1], padding='VALID')\n",
    "\n",
    "    # SOLUTION: Flatten. Input = 5x5x16. Output = 400.\n",
    "    fc0   =  tf.contrib.layers.flatten(conv2)\n",
    "    \n",
    "    # SOLUTION: Layer 3: Fully Connected. Input = 400. Output = 120.\n",
    "    fc1_W = tf.get_variable(\"fc1_W\", shape = [400, 120], initializer = tf.contrib.layers.xavier_initializer())\n",
    "    fc1_b = tf.get_variable(\"fc1_b\", shape = [120], initializer = tf.contrib.layers.xavier_initializer())\n",
    "    fc1   = tf.matmul(fc0, fc1_W) + fc1_b\n",
    "    \n",
    "    # SOLUTION: Activation.\n",
    "    fc1    = tf.nn.relu(fc1)\n",
    "\n",
    "    # SOLUTION: Layer 4: Fully Connected. Input = 120. Output = 84.\n",
    "    fc2_W = tf.get_variable(\"fc2_W\", shape = [120, 84], initializer = tf.contrib.layers.xavier_initializer())\n",
    "    fc2_b = tf.get_variable(\"fc2_b\", shape = [84], initializer = tf.contrib.layers.xavier_initializer())\n",
    "    fc2    = tf.matmul(fc1, fc2_W) + fc2_b\n",
    "    \n",
    "    # SOLUTION: Activation.\n",
    "    fc2    = tf.nn.relu(fc2)\n",
    "\n",
    "    # SOLUTION: Layer 5: Fully Connected. Input = 84. Output = n_classes.\n",
    "    fc3_W = tf.get_variable(\"fc3_W\", shape = [84, n_classes], initializer = tf.contrib.layers.xavier_initializer())\n",
    "    fc3_b = tf.get_variable(\"fc3_b\", shape = [n_classes], initializer = tf.contrib.layers.xavier_initializer())\n",
    "    logits = tf.matmul(fc2, fc3_W) + fc3_b\n",
    "    \n",
    "    return logits\n",
    "\n",
    "def dnn(x):\n",
    "    \n",
    "    y = LeNet(x)\n",
    "    \n",
    "    return y\n",
    "\n",
    "print(\"Finished Defining DNN\")"
   ]
  },
  {
   "cell_type": "markdown",
   "metadata": {},
   "source": [
    "### Train, Validate and Test the Model"
   ]
  },
  {
   "cell_type": "markdown",
   "metadata": {},
   "source": []
  },
  {
   "cell_type": "code",
   "execution_count": 6,
   "metadata": {
    "scrolled": true
   },
   "outputs": [
    {
     "name": "stdout",
     "output_type": "stream",
     "text": [
      "0.12.1\n",
      "Finished Loading Graph\n",
      "Training...\n",
      "\n",
      "EPOCH 1 ...\n",
      "Validation Accuracy = 0.820\n",
      "\n",
      "EPOCH 2 ...\n",
      "Validation Accuracy = 0.887\n",
      "\n",
      "EPOCH 3 ...\n",
      "Validation Accuracy = 0.902\n",
      "\n",
      "EPOCH 4 ...\n",
      "Validation Accuracy = 0.902\n",
      "\n",
      "EPOCH 5 ...\n",
      "Validation Accuracy = 0.897\n",
      "\n",
      "EPOCH 6 ...\n",
      "Validation Accuracy = 0.915\n",
      "\n",
      "EPOCH 7 ...\n",
      "Validation Accuracy = 0.909\n",
      "\n",
      "EPOCH 8 ...\n",
      "Validation Accuracy = 0.926\n",
      "\n",
      "EPOCH 9 ...\n",
      "Validation Accuracy = 0.924\n",
      "\n",
      "EPOCH 10 ...\n",
      "Validation Accuracy = 0.926\n",
      "\n",
      "EPOCH 11 ...\n",
      "Validation Accuracy = 0.919\n",
      "\n",
      "EPOCH 12 ...\n",
      "Validation Accuracy = 0.913\n",
      "\n",
      "EPOCH 13 ...\n",
      "Validation Accuracy = 0.925\n",
      "\n",
      "EPOCH 14 ...\n",
      "Validation Accuracy = 0.932\n",
      "\n",
      "EPOCH 15 ...\n",
      "Validation Accuracy = 0.937\n",
      "\n",
      "Model saved\n",
      "Testing...\n",
      "Test Accuracy = 0.926\n"
     ]
    }
   ],
   "source": [
    "# Helper Definitions\n",
    "\n",
    "print(tf.__version__)\n",
    "\n",
    "x = tf.placeholder(tf.float32, (None, 32, 32, 3))\n",
    "y = tf.placeholder(tf.int32, (None))\n",
    "one_hot_y = tf.one_hot(y, n_classes)\n",
    "\n",
    "logits = dnn(x)\n",
    "cross_entropy = tf.nn.softmax_cross_entropy_with_logits(logits=logits, labels=one_hot_y)\n",
    "loss_operation = tf.reduce_mean(cross_entropy)\n",
    "optimizer = tf.train.AdamOptimizer(learning_rate = 0.001)\n",
    "training_operation = optimizer.minimize(loss_operation)\n",
    "\n",
    "correct_prediction = tf.equal(tf.argmax(logits, 1), tf.argmax(one_hot_y, 1))\n",
    "accuracy_operation = tf.reduce_mean(tf.cast(correct_prediction, tf.float32))\n",
    "saver = tf.train.Saver()\n",
    "\n",
    "print(\"Finished Loading Graph\")\n",
    "\n",
    "def evaluate(X_data, y_data):\n",
    "    num_examples = len(X_data)\n",
    "    total_accuracy = 0\n",
    "    sess = tf.get_default_session()\n",
    "    for offset in range(0, num_examples, BATCH_SIZE):\n",
    "        batch_x, batch_y = X_data[offset:offset+BATCH_SIZE], y_data[offset:offset+BATCH_SIZE]\n",
    "        accuracy = sess.run(accuracy_operation, feed_dict={x: batch_x, y: batch_y})\n",
    "        total_accuracy += (accuracy * len(batch_x))\n",
    "    return total_accuracy / num_examples\n",
    "\n",
    "# Train & Validate\n",
    "\n",
    "with tf.Session() as sess:\n",
    "    sess.run(tf.global_variables_initializer())\n",
    "    num_examples = len(X_train)\n",
    "    \n",
    "    print(\"Training...\")\n",
    "    print()\n",
    "    for i in range(EPOCHS):\n",
    "        X_train, y_train = shuffle(X_train, y_train)\n",
    "        for offset in range(0, num_examples, BATCH_SIZE):\n",
    "            end = offset + BATCH_SIZE\n",
    "            batch_x, batch_y = X_train[offset:end], y_train[offset:end]\n",
    "            sess.run(training_operation, feed_dict={x: batch_x, y: batch_y})\n",
    "            \n",
    "        validation_accuracy = evaluate(X_valid, y_valid)\n",
    "        print(\"EPOCH {} ...\".format(i+1))\n",
    "        print(\"Validation Accuracy = {:.3f}\".format(validation_accuracy))\n",
    "        print()\n",
    "        saver.save(sess, 'model')\n",
    "        \n",
    "    saver.save(sess, 'model')\n",
    "    print(\"Model saved\")\n",
    "    \n",
    "    print(\"Testing...\")\n",
    "    test_accuracy = evaluate(X_test, y_test)\n",
    "    print(\"Test Accuracy = {:.3f}\".format(test_accuracy))\n",
    "    sess.close()\n"
   ]
  },
  {
   "cell_type": "markdown",
   "metadata": {},
   "source": [
    "---\n",
    "\n",
    "## Step 3: Test a Model on New Images\n",
    "\n",
    "To give yourself more insight into how your model is working, download at least five pictures of German traffic signs from the web and use your model to predict the traffic sign type.\n",
    "\n",
    "You may find `signnames.csv` useful as it contains mappings from the class id (integer) to the actual sign name."
   ]
  },
  {
   "cell_type": "markdown",
   "metadata": {},
   "source": [
    "### Load and Output the Images"
   ]
  },
  {
   "cell_type": "code",
   "execution_count": 7,
   "metadata": {},
   "outputs": [
    {
     "name": "stdout",
     "output_type": "stream",
     "text": [
      "Finished loading images\n"
     ]
    },
    {
     "data": {
      "image/png": "[encoded data removed]",
      "text/plain": [
       "<matplotlib.figure.Figure at 0x7f29bc792ef0>"
      ]
     },
     "metadata": {},
     "output_type": "display_data"
    },
    {
     "data": {
      "image/png": "[encoded data removed]",
      "text/plain": [
       "<matplotlib.figure.Figure at 0x7f29bc774e48>"
      ]
     },
     "metadata": {},
     "output_type": "display_data"
    },
    {
     "data": {
      "image/png": "[encoded data removed]",
      "text/plain": [
       "<matplotlib.figure.Figure at 0x7f29bc706b38>"
      ]
     },
     "metadata": {},
     "output_type": "display_data"
    },
    {
     "data": {
      "image/png": "[encoded data removed]",
      "text/plain": [
       "<matplotlib.figure.Figure at 0x7f29bc694940>"
      ]
     },
     "metadata": {},
     "output_type": "display_data"
    },
    {
     "data": {
      "image/png": "[encoded data removed]",
      "text/plain": [
       "<matplotlib.figure.Figure at 0x7f29bc6a55c0>"
      ]
     },
     "metadata": {},
     "output_type": "display_data"
    }
   ],
   "source": [
    "### Load the images and plot them here.\n",
    "import matplotlib.image as mpimg\n",
    "from scipy.misc import imresize\n",
    "from random import randint\n",
    "import pandas as pd\n",
    "\n",
    "n_images = 5\n",
    "\n",
    "X_data = np.random.rand(n_images, 32,32,3)\n",
    "\n",
    "y_data = np.random.rand(n_images)\n",
    "\n",
    "info = pd.read_csv(\"test.csv\", sep=';',header=0, names=['Filename', 'Width', 'Height','Roi.X1','Roi.Y1','Roi.X2','Roi.Y2','ClassId'])\n",
    "mappings = pd.read_csv(\"signnames.csv\", sep=',',header=0, names=['ClassId', 'SignName'])\n",
    "\n",
    "for  i in range(n_images):\n",
    "    file_name = \"{:05d}.ppm\".format(randint(0,12000))\n",
    "    # X\n",
    "    xx =  mpimg.imread(\"images/{}\".format(file_name))\n",
    "    xx = imresize(xx, (32, 32))\n",
    "    X_data[i] = xx\n",
    "    # Y\n",
    "    yy = info.loc[info['Filename'] == file_name].iloc[0]['ClassId']\n",
    "    y_data[i] = yy\n",
    "    # Visualize\n",
    "    sign_name = mappings.loc[mappings['ClassId'] == yy].iloc[0]['SignName']\n",
    "    plt.figure(figsize=(1,1))\n",
    "    plt.title(sign_name)\n",
    "    plt.imshow(xx)\n",
    "    \n",
    "X_data = (X_data - 128.0)/128.0\n",
    "\n",
    "print(\"Finished loading images\")"
   ]
  },
  {
   "cell_type": "markdown",
   "metadata": {},
   "source": [
    "### Predict the Sign Type for Each Image"
   ]
  },
  {
   "cell_type": "code",
   "execution_count": 8,
   "metadata": {
    "scrolled": true
   },
   "outputs": [
    {
     "name": "stdout",
     "output_type": "stream",
     "text": [
      "Sign number 0 is predicted to be a Speed limit (120km/h)\n",
      "Sign number 1 is predicted to be a Speed limit (50km/h)\n",
      "Sign number 2 is predicted to be a Wild animals crossing\n",
      "Sign number 3 is predicted to be a Dangerous curve to the left\n",
      "Sign number 4 is predicted to be a Traffic signals\n"
     ]
    }
   ],
   "source": [
    "prob_vec = tf.nn.softmax(logits)\n",
    "\n",
    "with tf.Session() as sess:\n",
    "    saver.restore(sess,'./model')\n",
    "    for  i in range(X_data.shape[0]):\n",
    "        probs = sess.run(prob_vec, feed_dict={x: np.expand_dims(X_data[i],axis=0)})\n",
    "        prediction = np.argmax(probs)\n",
    "        sign_name = mappings.loc[mappings['ClassId'] == prediction].iloc[0]['SignName']\n",
    "        print(\"Sign number {} is predicted to be a {}\".format(i,sign_name))\n",
    "    sess.close()"
   ]
  },
  {
   "cell_type": "markdown",
   "metadata": {},
   "source": [
    "### Analyze Performance"
   ]
  },
  {
   "cell_type": "code",
   "execution_count": 9,
   "metadata": {},
   "outputs": [
    {
     "name": "stdout",
     "output_type": "stream",
     "text": [
      "Accuracy = 1.000\n"
     ]
    }
   ],
   "source": [
    "with tf.Session() as sess:\n",
    "    saver.restore(sess,'./model')\n",
    "    accuracy = evaluate(X_data, y_data)\n",
    "    sess.close()\n",
    "print(\"Accuracy = {:.3f}\".format(accuracy))"
   ]
  },
  {
   "cell_type": "markdown",
   "metadata": {},
   "source": [
    "### Output Top 5 Softmax Probabilities For Each Image Found on the Web"
   ]
  },
  {
   "cell_type": "markdown",
   "metadata": {},
   "source": [
    "\n"
   ]
  },
  {
   "cell_type": "code",
   "execution_count": 10,
   "metadata": {},
   "outputs": [
    {
     "name": "stdout",
     "output_type": "stream",
     "text": [
      "\n",
      "\n",
      "Sign #0\n"
     ]
    },
    {
     "data": {
      "image/png": "[encoded data removed]",
      "text/plain": [
       "<matplotlib.figure.Figure at 0x7f2a56857518>"
      ]
     },
     "metadata": {},
     "output_type": "display_data"
    },
    {
     "name": "stdout",
     "output_type": "stream",
     "text": [
      "100.0 % probability for Sign #0 is to be a Speed limit (120km/h)\n",
      "8.73218923384822e-11 % probability for Sign #0 is to be a Speed limit (100km/h)\n",
      "3.2930096581682984e-15 % probability for Sign #0 is to be a Speed limit (80km/h)\n",
      "1.3373293660940815e-16 % probability for Sign #0 is to be a Speed limit (50km/h)\n",
      "9.53695302303599e-18 % probability for Sign #0 is to be a Speed limit (30km/h)\n"
     ]
    },
    {
     "data": {
      "image/png": "[encoded data removed]",
      "text/plain": [
       "<matplotlib.figure.Figure at 0x7f29be7d2ba8>"
      ]
     },
     "metadata": {},
     "output_type": "display_data"
    },
    {
     "name": "stdout",
     "output_type": "stream",
     "text": [
      "\n",
      "\n",
      "Sign #1\n"
     ]
    },
    {
     "data": {
      "image/png": "[encoded data removed]",
      "text/plain": [
       "<matplotlib.figure.Figure at 0x7f29be76f7b8>"
      ]
     },
     "metadata": {},
     "output_type": "display_data"
    },
    {
     "name": "stdout",
     "output_type": "stream",
     "text": [
      "100.0 % probability for Sign #1 is to be a Speed limit (50km/h)\n",
      "2.9258237758553035e-24 % probability for Sign #1 is to be a Speed limit (30km/h)\n",
      "1.618941072335952e-30 % probability for Sign #1 is to be a Wild animals crossing\n",
      "5.517170613298914e-31 % probability for Sign #1 is to be a Speed limit (100km/h)\n",
      "4.59733489617895e-31 % probability for Sign #1 is to be a Speed limit (80km/h)\n"
     ]
    },
    {
     "data": {
      "image/png": "[encoded data removed]",
      "text/plain": [
       "<matplotlib.figure.Figure at 0x7f29be71ca20>"
      ]
     },
     "metadata": {},
     "output_type": "display_data"
    },
    {
     "name": "stdout",
     "output_type": "stream",
     "text": [
      "\n",
      "\n",
      "Sign #2\n"
     ]
    },
    {
     "data": {
      "image/png": "[encoded data removed]",
      "text/plain": [
       "<matplotlib.figure.Figure at 0x7f29be6c3be0>"
      ]
     },
     "metadata": {},
     "output_type": "display_data"
    },
    {
     "name": "stdout",
     "output_type": "stream",
     "text": [
      "100.0 % probability for Sign #2 is to be a Wild animals crossing\n",
      "9.196741979078382e-09 % probability for Sign #2 is to be a Slippery road\n",
      "3.0852528648192545e-11 % probability for Sign #2 is to be a Speed limit (60km/h)\n",
      "2.900338728407427e-12 % probability for Sign #2 is to be a Dangerous curve to the left\n",
      "4.783961617962299e-14 % probability for Sign #2 is to be a Bicycles crossing\n"
     ]
    },
    {
     "data": {
      "image/png": "[encoded data removed]",
      "text/plain": [
       "<matplotlib.figure.Figure at 0x7f29be77a940>"
      ]
     },
     "metadata": {},
     "output_type": "display_data"
    },
    {
     "name": "stdout",
     "output_type": "stream",
     "text": [
      "\n",
      "\n",
      "Sign #3\n"
     ]
    },
    {
     "data": {
      "image/png": "[encoded data removed]",
      "text/plain": [
       "<matplotlib.figure.Figure at 0x7f29bc5c9f98>"
      ]
     },
     "metadata": {},
     "output_type": "display_data"
    },
    {
     "name": "stdout",
     "output_type": "stream",
     "text": [
      "50.55414438247681 % probability for Sign #3 is to be a Dangerous curve to the left\n",
      "46.201059222221375 % probability for Sign #3 is to be a Slippery road\n",
      "2.9207419604063034 % probability for Sign #3 is to be a Double curve\n",
      "0.2589972922578454 % probability for Sign #3 is to be a Wild animals crossing\n",
      "0.03222056548111141 % probability for Sign #3 is to be a Road work\n"
     ]
    },
    {
     "data": {
      "image/png": "[encoded data removed]",
      "text/plain": [
       "<matplotlib.figure.Figure at 0x7f2a58f28fd0>"
      ]
     },
     "metadata": {},
     "output_type": "display_data"
    },
    {
     "name": "stdout",
     "output_type": "stream",
     "text": [
      "\n",
      "\n",
      "Sign #4\n"
     ]
    },
    {
     "data": {
      "image/png": "[encoded data removed]",
      "text/plain": [
       "<matplotlib.figure.Figure at 0x7f29be6c3ba8>"
      ]
     },
     "metadata": {},
     "output_type": "display_data"
    },
    {
     "name": "stdout",
     "output_type": "stream",
     "text": [
      "100.0 % probability for Sign #4 is to be a Traffic signals\n",
      "1.6035433397787457e-09 % probability for Sign #4 is to be a General caution\n",
      "1.4167946906479165e-19 % probability for Sign #4 is to be a Road narrows on the right\n",
      "1.651138507427174e-20 % probability for Sign #4 is to be a No vehicles\n",
      "1.0866032404765203e-22 % probability for Sign #4 is to be a Keep right\n"
     ]
    },
    {
     "data": {
      "image/png": "[encoded data removed]",
      "text/plain": [
       "<matplotlib.figure.Figure at 0x7f29be781518>"
      ]
     },
     "metadata": {},
     "output_type": "display_data"
    }
   ],
   "source": [
    "top_k = 5\n",
    "with tf.Session() as sess:\n",
    "    saver.restore(sess,'./model')\n",
    "    all_values, all_indices = sess.run(tf.nn.top_k(prob_vec, k=top_k), feed_dict={x: X_data})\n",
    "    i = 0\n",
    "    sess.close()\n",
    "\n",
    "for values, indices in zip(all_values,all_indices):\n",
    "    n = 0\n",
    "    print(\"\\n\")\n",
    "    print(\"Sign #{}\".format(i))\n",
    "    plt.figure(figsize=(1,1))\n",
    "    plt.imshow(X_data[i]*128.0+128.0)\n",
    "    plt.show()\n",
    "    sign_names = []\n",
    "    for index in indices:\n",
    "        sign_name = mappings.loc[mappings['ClassId'] == index].iloc[0]['SignName']\n",
    "        sign_names.append(sign_name)\n",
    "        print(\"{} % probability for Sign #{} is to be a {}\".format(values[n]*100,i,sign_name))\n",
    "        n += 1\n",
    "    plt.barh(np.arange(len(sign_names)), values, align='center', alpha=0.5)\n",
    "    plt.yticks(np.arange(len(sign_names)),sign_names)\n",
    "    plt.xlabel('Probabilities')\n",
    "    plt.title('Sign #{}'.format(i))\n",
    "    plt.show()\n",
    "    i +=1"
   ]
  },
  {
   "cell_type": "markdown",
   "metadata": {},
   "source": []
  },
  {
   "cell_type": "markdown",
   "metadata": {},
   "source": []
  },
  {
   "cell_type": "markdown",
   "metadata": {},
   "source": [
    "\n"
   ]
  },
  {
   "cell_type": "code",
   "execution_count": null,
   "metadata": {
    "collapsed": true
   },
   "outputs": [],
   "source": []
  }
 ],
 "metadata": {
  "anaconda-cloud": {},
  "kernelspec": {
   "display_name": "Python 3",
   "language": "python",
   "name": "python3"
  },
  "language_info": {
   "codemirror_mode": {
    "name": "ipython",
    "version": 3
   },
   "file_extension": ".py",
   "mimetype": "text/x-python",
   "name": "python",
   "nbconvert_exporter": "python",
   "pygments_lexer": "ipython3",
   "version": "3.5.2"
  },
  "widgets": {
   "state": {},
   "version": "1.1.2"
  }
 },
 "nbformat": 4,
 "nbformat_minor": 1
}
